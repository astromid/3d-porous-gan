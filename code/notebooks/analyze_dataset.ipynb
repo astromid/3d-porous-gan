{
 "cells": [
  {
   "cell_type": "code",
   "execution_count": 4,
   "metadata": {
    "ExecuteTime": {
     "end_time": "2019-05-03T13:17:14.916238Z",
     "start_time": "2019-05-03T13:17:14.910825Z"
    }
   },
   "outputs": [],
   "source": [
    "from pathlib import Path\n",
    "\n",
    "import h5py\n",
    "import numpy as np\n",
    "import pandas as pd\n",
    "import torch\n",
    "from tqdm import tqdm_notebook\n",
    "from minkowski import compute_minkowski\n",
    "from utils import fix_random_seed, postprocess_cube, two_point_correlation"
   ]
  },
  {
   "cell_type": "code",
   "execution_count": 5,
   "metadata": {
    "ExecuteTime": {
     "end_time": "2019-05-03T13:17:16.327435Z",
     "start_time": "2019-05-03T13:17:16.176439Z"
    }
   },
   "outputs": [],
   "source": [
    "dataset_path = Path('../../data/berea_64/')\n",
    "files = list(dataset_path.glob('*.hdf5'))"
   ]
  },
  {
   "cell_type": "code",
   "execution_count": 7,
   "metadata": {
    "ExecuteTime": {
     "end_time": "2019-05-03T16:52:55.745412Z",
     "start_time": "2019-05-03T13:17:49.252248Z"
    }
   },
   "outputs": [
    {
     "data": {
      "application/vnd.jupyter.widget-view+json": {
       "model_id": "efefdb220df04f8985c67a445eee996f",
       "version_major": 2,
       "version_minor": 0
      },
      "text/plain": [
       "HBox(children=(IntProgress(value=0, description='Sample', max=10648, style=ProgressStyle(description_width='in…"
      ]
     },
     "metadata": {},
     "output_type": "display_data"
    },
    {
     "name": "stdout",
     "output_type": "stream",
     "text": [
      "\n"
     ]
    }
   ],
   "source": [
    "data = {\n",
    "    'V': [],\n",
    "    'S': [],\n",
    "    'B': [],\n",
    "    'Xi': []\n",
    "}\n",
    "for file in tqdm_notebook(files, desc=\"Sample\"):\n",
    "    with h5py.File(file, 'r') as fl:\n",
    "        cube = fl['data'][()]\n",
    "    cube = cube // 255\n",
    "    cube = np.pad(cube, ((1, 1), (1, 1), (1, 1)), mode='constant', constant_values=0)\n",
    "    v, s, b, xi = compute_minkowski(cube)\n",
    "    data['V'].append(v)\n",
    "    data['S'].append(s)\n",
    "    data['B'].append(b)\n",
    "    data['Xi'].append(xi)\n",
    "\n",
    "    two_point_covariance = {}\n",
    "    grain_value = cube.max()\n",
    "    for i, direct in enumerate([\"x\", \"y\", \"z\"]):\n",
    "        two_point_direct = two_point_correlation(cube, i, var=grain_value)\n",
    "        two_point_covariance[direct] = two_point_direct\n",
    "    # phase averaging\n",
    "    direct_covariances = {}\n",
    "    for direct in [\"x\", \"y\", \"z\"]:\n",
    "        direct_covariances[direct] = np.mean(np.mean(two_point_covariance[direct], axis=0), axis=0)\n",
    "    # covariance storage\n",
    "    covariance_df = pd.DataFrame(direct_covariances)\n",
    "    covariance_df.to_csv(dataset_path / 'covariance_stats' / (file.name + \".csv\"), index=False)\n",
    "\n",
    "df = pd.DataFrame(data)\n",
    "df.to_csv(dataset_path / 'minkowski64.csv', index=False)"
   ]
  },
  {
   "cell_type": "code",
   "execution_count": null,
   "metadata": {},
   "outputs": [],
   "source": []
  }
 ],
 "metadata": {
  "kernelspec": {
   "display_name": "Python 3",
   "language": "python",
   "name": "python3"
  },
  "language_info": {
   "codemirror_mode": {
    "name": "ipython",
    "version": 3
   },
   "file_extension": ".py",
   "mimetype": "text/x-python",
   "name": "python",
   "nbconvert_exporter": "python",
   "pygments_lexer": "ipython3",
   "version": "3.7.3"
  },
  "varInspector": {
   "cols": {
    "lenName": 16,
    "lenType": 16,
    "lenVar": 40
   },
   "kernels_config": {
    "python": {
     "delete_cmd_postfix": "",
     "delete_cmd_prefix": "del ",
     "library": "var_list.py",
     "varRefreshCmd": "print(var_dic_list())"
    },
    "r": {
     "delete_cmd_postfix": ") ",
     "delete_cmd_prefix": "rm(",
     "library": "var_list.r",
     "varRefreshCmd": "cat(var_dic_list()) "
    }
   },
   "types_to_exclude": [
    "module",
    "function",
    "builtin_function_or_method",
    "instance",
    "_Feature"
   ],
   "window_display": false
  }
 },
 "nbformat": 4,
 "nbformat_minor": 2
}
