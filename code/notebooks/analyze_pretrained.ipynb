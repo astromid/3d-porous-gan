{
 "cells": [
  {
   "cell_type": "code",
   "execution_count": 1,
   "metadata": {
    "ExecuteTime": {
     "end_time": "2019-05-03T13:12:11.849146Z",
     "start_time": "2019-05-03T13:12:05.151054Z"
    }
   },
   "outputs": [],
   "source": [
    "from pathlib import Path\n",
    "\n",
    "import numpy as np\n",
    "import pandas as pd\n",
    "import torch\n",
    "from tqdm import tqdm_notebook\n",
    "from models import Generator\n",
    "from minkowski import compute_minkowski\n",
    "from utils import fix_random_seed, postprocess_cube, two_point_correlation\n",
    "\n",
    "IMG_FACTOR = 12\n",
    "SIZE = int(0.8 * (48 + IMG_FACTOR * 16))\n",
    "\n",
    "seeds = np.random.choice(range(14300631), size=1000)\n",
    "checkpoint_path = Path('../../experiments') / 'original-berea' / 'berea_generator_epoch_24.pth'\n",
    "covariance_dir = Path('../../experiments') / 'original-berea' / f'covariance_stats_{SIZE}'\n",
    "covariance_dir.mkdir()\n",
    "device = torch.device(\"cuda\") if torch.cuda.is_available() else torch.device(\"cpu\")\n",
    "\n",
    "net_g = Generator(\n",
    "    img_size=64,\n",
    "    z_dim=512,\n",
    "    num_channels=1,\n",
    "    num_filters=64\n",
    ").to(device)"
   ]
  },
  {
   "cell_type": "code",
   "execution_count": 2,
   "metadata": {
    "ExecuteTime": {
     "end_time": "2019-05-03T13:12:12.773191Z",
     "start_time": "2019-05-03T13:12:12.581386Z"
    }
   },
   "outputs": [],
   "source": [
    "from collections import OrderedDict\n",
    "new_dict = OrderedDict()\n",
    "pre_dict = torch.load(checkpoint_path)\n",
    "\n",
    "new_dict['net.0.weight'] = pre_dict['main.0.weight']\n",
    "new_dict['net.1.weight'] = pre_dict['main.1.weight']\n",
    "new_dict['net.1.bias'] = pre_dict['main.1.bias']\n",
    "new_dict['net.1.running_mean'] = pre_dict['main.1.running_mean']\n",
    "new_dict['net.1.running_var'] = pre_dict['main.1.running_var']\n",
    "# new_dict['net.1.num_batches_tracked'] = net_g.state_dict()['net.1.num_batches_tracked']\n",
    "new_dict['net.3.weight'] = pre_dict['main.3.weight']\n",
    "new_dict['net.4.weight'] = pre_dict['main.4.weight']\n",
    "new_dict['net.4.bias'] = pre_dict['main.4.bias']\n",
    "new_dict['net.4.running_mean'] = pre_dict['main.4.running_mean']\n",
    "new_dict['net.4.running_var'] = pre_dict['main.4.running_var']\n",
    "# new_dict['net.4.num_batches_tracked'] = net_g.state_dict()['net.4.num_batches_tracked']\n",
    "new_dict['net.6.weight'] = pre_dict['main.6.weight']\n",
    "new_dict['net.7.weight'] = pre_dict['main.7.weight']\n",
    "new_dict['net.7.bias'] = pre_dict['main.7.bias']\n",
    "new_dict['net.7.running_mean'] = pre_dict['main.7.running_mean']\n",
    "new_dict['net.7.running_var'] = pre_dict['main.7.running_var']\n",
    "# new_dict['net.7.num_batches_tracked'] = net_g.state_dict()['net.7.num_batches_tracked']\n",
    "new_dict['net.9.weight'] = pre_dict['main.9.weight']\n",
    "new_dict['net.10.weight'] = pre_dict['main.10.weight']\n",
    "new_dict['net.10.bias'] = pre_dict['main.10.bias']\n",
    "new_dict['net.10.running_mean'] = pre_dict['main.10.running_mean']\n",
    "new_dict['net.10.running_var'] = pre_dict['main.10.running_var']\n",
    "# new_dict['net.10.num_batches_tracked'] = net_g.state_dict()['net.10.num_batches_tracked']\n",
    "new_dict['net.12.weight'] = pre_dict['main.12.weight']"
   ]
  },
  {
   "cell_type": "code",
   "execution_count": 3,
   "metadata": {
    "ExecuteTime": {
     "end_time": "2019-05-03T13:12:22.911528Z",
     "start_time": "2019-05-03T13:12:22.901556Z"
    }
   },
   "outputs": [],
   "source": [
    "_ = net_g.load_state_dict(new_dict)"
   ]
  },
  {
   "cell_type": "code",
   "execution_count": null,
   "metadata": {
    "ExecuteTime": {
     "end_time": "2019-05-03T12:58:47.658431Z",
     "start_time": "2019-05-03T12:47:38.080866Z"
    }
   },
   "outputs": [
    {
     "data": {
      "application/vnd.jupyter.widget-view+json": {
       "model_id": "a9e7003174c24f09a95402f40ff994ee",
       "version_major": 2,
       "version_minor": 0
      },
      "text/plain": [
       "HBox(children=(IntProgress(value=0, description='Generate 192^3, iteration', max=1000, style=ProgressStyle(des…"
      ]
     },
     "metadata": {},
     "output_type": "display_data"
    }
   ],
   "source": [
    "data = {\n",
    "    'V': [],\n",
    "    'S': [],\n",
    "    'B': [],\n",
    "    'Xi': []\n",
    "}\n",
    "for seed in tqdm_notebook(seeds, desc=f\"Generate {SIZE}^3, iteration\"):\n",
    "    _ = fix_random_seed(seed)\n",
    "    noise = torch.randn(1, 512, IMG_FACTOR, IMG_FACTOR, IMG_FACTOR, device=device)\n",
    "    cube = net_g(noise).squeeze().detach().cpu()\n",
    "    cube = cube.mul(0.5).add(0.5).numpy()\n",
    "    cube = postprocess_cube(cube)\n",
    "    # fix wrong 0, 1 mapping\n",
    "    cube = 1 - cube\n",
    "    cube = np.pad(cube, ((1, 1), (1, 1), (1, 1)), mode='constant', constant_values=0)\n",
    "    v, s, b, xi = compute_minkowski(cube)\n",
    "    data['V'].append(v)\n",
    "    data['S'].append(s)\n",
    "    data['B'].append(b)\n",
    "    data['Xi'].append(xi)\n",
    "\n",
    "    two_point_covariance = {}\n",
    "    grain_value = cube.max()\n",
    "    for i, direct in enumerate([\"x\", \"y\", \"z\"]):\n",
    "        two_point_direct = two_point_correlation(cube, i, var=grain_value)\n",
    "        two_point_covariance[direct] = two_point_direct\n",
    "    # phase averaging\n",
    "    direct_covariances = {}\n",
    "    for direct in [\"x\", \"y\", \"z\"]:\n",
    "        direct_covariances[direct] = np.mean(np.mean(two_point_covariance[direct], axis=0), axis=0)\n",
    "    # covariance storage\n",
    "    covariance_df = pd.DataFrame(direct_covariances)\n",
    "    covariance_df.to_csv(covariance_dir / (\"seed_\" + str(seed) + \".csv\"), index=False)\n",
    "\n",
    "df = pd.DataFrame(data)\n",
    "df.to_csv(Path('../../experiments') / 'original-berea' / f'seeds_analyze_{SIZE}.csv', index=False)"
   ]
  },
  {
   "cell_type": "code",
   "execution_count": null,
   "metadata": {},
   "outputs": [],
   "source": []
  }
 ],
 "metadata": {
  "kernelspec": {
   "display_name": "Python 3",
   "language": "python",
   "name": "python3"
  },
  "language_info": {
   "codemirror_mode": {
    "name": "ipython",
    "version": 3
   },
   "file_extension": ".py",
   "mimetype": "text/x-python",
   "name": "python",
   "nbconvert_exporter": "python",
   "pygments_lexer": "ipython3",
   "version": "3.7.3"
  },
  "varInspector": {
   "cols": {
    "lenName": 16,
    "lenType": 16,
    "lenVar": 40
   },
   "kernels_config": {
    "python": {
     "delete_cmd_postfix": "",
     "delete_cmd_prefix": "del ",
     "library": "var_list.py",
     "varRefreshCmd": "print(var_dic_list())"
    },
    "r": {
     "delete_cmd_postfix": ") ",
     "delete_cmd_prefix": "rm(",
     "library": "var_list.r",
     "varRefreshCmd": "cat(var_dic_list()) "
    }
   },
   "types_to_exclude": [
    "module",
    "function",
    "builtin_function_or_method",
    "instance",
    "_Feature"
   ],
   "window_display": false
  }
 },
 "nbformat": 4,
 "nbformat_minor": 2
}
