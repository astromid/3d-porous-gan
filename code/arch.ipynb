{
  "cells": [
    {
      "cell_type": "code",
      "source": [
        "from torchsummaryX import summary\n",
        "from models import Generator, Discriminator"
      ],
      "outputs": [],
      "execution_count": 3,
      "metadata": {
        "collapsed": false,
        "outputHidden": false,
        "inputHidden": false
      }
    },
    {
      "cell_type": "code",
      "source": [
        "gen = Generator(img_size=64, z_dim=512, num_channels=1, num_filters=64)"
      ],
      "outputs": [],
      "execution_count": 5,
      "metadata": {
        "collapsed": false,
        "outputHidden": false,
        "inputHidden": false
      }
    },
    {
      "cell_type": "code",
      "source": [
        "dis = Discriminator(img_size=64, num_channels=1, num_filters=32)"
      ],
      "outputs": [],
      "execution_count": 7,
      "metadata": {
        "collapsed": false,
        "outputHidden": false,
        "inputHidden": false
      }
    },
    {
      "cell_type": "code",
      "source": [
        "import torch\n",
        "summary(gen, torch.zeros(1, 512, 1, 1, 1))"
      ],
      "outputs": [
        {
          "output_type": "stream",
          "name": "stderr",
          "text": [
            "C:\\Users\\astro\\miniconda3\\lib\\site-packages\\torchsummaryX\\torchsummaryX.py:44: RuntimeWarning: overflow encountered in long_scalars\n",
            "  info[\"macs\"] += int(param.nelement() * np.prod(info[\"out\"][2:]))\n"
          ]
        },
        {
          "output_type": "stream",
          "name": "stdout",
          "text": [
            "----------------------------------------------------------------------------------------------------\n",
            "Layer                   Kernel Shape         Output Shape         # Params (K)      # Mult-Adds (M)\n",
            "====================================================================================================\n",
            "0_ConvTranspose3d  [256, 512, 4, 4, 4]    [1, 256, 4, 4, 4]             8,388.61               536.87\n",
            "1_BatchNorm3d                  [256]    [1, 256, 4, 4, 4]                 0.51                 0.00\n",
            "2_ReLU                             -    [1, 256, 4, 4, 4]                    -                    -\n",
            "3_ConvTranspose3d  [128, 256, 4, 4, 4]    [1, 128, 8, 8, 8]             2,097.15             1,073.74\n",
            "4_BatchNorm3d                  [128]    [1, 128, 8, 8, 8]                 0.26                 0.00\n",
            "5_ReLU                             -    [1, 128, 8, 8, 8]                    -                    -\n",
            "6_ConvTranspose3d   [64, 128, 4, 4, 4]  [1, 64, 16, 16, 16]               524.29            -2,147.48\n",
            "7_BatchNorm3d                   [64]  [1, 64, 16, 16, 16]                 0.13                 0.00\n",
            "8_ReLU                             -  [1, 64, 16, 16, 16]                    -                    -\n",
            "9_ConvTranspose3d    [32, 64, 4, 4, 4]  [1, 32, 32, 32, 32]               131.07                 0.00\n",
            "10_BatchNorm3d                  [32]  [1, 32, 32, 32, 32]                 0.06                 0.00\n",
            "11_ReLU                            -  [1, 32, 32, 32, 32]                    -                    -\n",
            "12_ConvTranspose3d     [1, 32, 4, 4, 4]   [1, 1, 64, 64, 64]                 2.05               536.87\n",
            "13_Tanh                            -   [1, 1, 64, 64, 64]                    -                    -\n",
            "====================================================================================================\n",
            "# Params:    11,144.13K\n",
            "# Mult-Adds: 0.00M\n",
            "----------------------------------------------------------------------------------------------------\n"
          ]
        }
      ],
      "execution_count": 10,
      "metadata": {
        "collapsed": false,
        "outputHidden": false,
        "inputHidden": false
      }
    },
    {
      "cell_type": "code",
      "source": [
        "summary(dis, torch.zeros(1, 1, 64, 64, 64))"
      ],
      "outputs": [
        {
          "output_type": "stream",
          "name": "stdout",
          "text": [
            "----------------------------------------------------------------------------------------------------\n",
            "Layer                   Kernel Shape         Output Shape         # Params (K)      # Mult-Adds (M)\n",
            "====================================================================================================\n",
            "0_Conv3d            [1, 32, 4, 4, 4]  [1, 32, 32, 32, 32]                 2.05                67.11\n",
            "1_LeakyReLU                        -  [1, 32, 32, 32, 32]                    -                    -\n",
            "2_Conv3d           [32, 64, 4, 4, 4]  [1, 64, 16, 16, 16]               131.07               536.87\n",
            "3_BatchNorm3d                   [64]  [1, 64, 16, 16, 16]                 0.13                 0.00\n",
            "4_LeakyReLU                        -  [1, 64, 16, 16, 16]                    -                    -\n",
            "5_Conv3d          [64, 128, 4, 4, 4]    [1, 128, 8, 8, 8]               524.29               268.44\n",
            "6_BatchNorm3d                  [128]    [1, 128, 8, 8, 8]                 0.26                 0.00\n",
            "7_LeakyReLU                        -    [1, 128, 8, 8, 8]                    -                    -\n",
            "8_Conv3d         [128, 256, 4, 4, 4]    [1, 256, 4, 4, 4]             2,097.15               134.22\n",
            "9_BatchNorm3d                  [256]    [1, 256, 4, 4, 4]                 0.51                 0.00\n",
            "10_LeakyReLU                       -    [1, 256, 4, 4, 4]                    -                    -\n",
            "11_Conv3d          [256, 1, 4, 4, 4]      [1, 1, 1, 1, 1]                16.38                 0.02\n",
            "12_Sigmoid                         -      [1, 1, 1, 1, 1]                    -                    -\n",
            "====================================================================================================\n",
            "# Params:    2,771.84K\n",
            "# Mult-Adds: 1,006.65M\n",
            "----------------------------------------------------------------------------------------------------\n"
          ]
        }
      ],
      "execution_count": 12,
      "metadata": {
        "collapsed": false,
        "outputHidden": false,
        "inputHidden": false
      }
    },
    {
      "cell_type": "code",
      "source": [],
      "outputs": [],
      "execution_count": null,
      "metadata": {
        "collapsed": false,
        "outputHidden": false,
        "inputHidden": false
      }
    }
  ],
  "metadata": {
    "kernel_info": {
      "name": "python3"
    },
    "language_info": {
      "name": "python",
      "version": "3.7.3",
      "mimetype": "text/x-python",
      "codemirror_mode": {
        "name": "ipython",
        "version": 3
      },
      "pygments_lexer": "ipython3",
      "nbconvert_exporter": "python",
      "file_extension": ".py"
    },
    "kernelspec": {
      "name": "python3",
      "language": "python",
      "display_name": "Python 3"
    },
    "nteract": {
      "version": "0.14.2"
    }
  },
  "nbformat": 4,
  "nbformat_minor": 0
}